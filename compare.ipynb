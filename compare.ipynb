{
  "cells": [
    {
      "cell_type": "code",
      "execution_count": null,
      "metadata": {
        "colab": {
          "base_uri": "https://localhost:8080/"
        },
        "id": "DOK_LU7uCMXK",
        "outputId": "6bbd8387-f4a8-4fe9-ca25-3bbd4f043138"
      },
      "outputs": [],
      "source": [
        "pip install qiskit"
      ]
    },
    {
      "cell_type": "code",
      "execution_count": null,
      "metadata": {
        "colab": {
          "base_uri": "https://localhost:8080/"
        },
        "id": "V5pj-hWuCduI",
        "outputId": "c3ea2dbf-e34d-417a-b8c8-7d3cc43667bb"
      },
      "outputs": [],
      "source": [
        "pip install qiskit-aer"
      ]
    },
    {
      "cell_type": "code",
      "execution_count": 4,
      "metadata": {
        "id": "BUKq7v3KCodb"
      },
      "outputs": [],
      "source": [
        "import matplotlib.pyplot as plt\n",
        "from qiskit import QuantumCircuit, transpile\n",
        "from qiskit_aer import AerSimulator\n",
        "from qiskit.visualization import plot_histogram\n",
        "from qiskit_ibm_runtime import QiskitRuntimeService, SamplerV2 as Sampler\n"
      ]
    },
    {
      "cell_type": "code",
      "execution_count": null,
      "metadata": {},
      "outputs": [],
      "source": [
        "service = QiskitRuntimeService(channel=\"ibm_quantum\", instance=\"rpi-rensselaer/general/general\", token=token)\n",
        "backend = service.least_busy(operational=True, simulator=False)\n",
        "sampler = Sampler(backend)\n",
        "simulator = AerSimulator()"
      ]
    },
    {
      "cell_type": "code",
      "execution_count": 21,
      "metadata": {},
      "outputs": [],
      "source": [
        "def plot_1(hist, counts):\n",
        "    return plot_histogram([hist, counts], legend=['simulation', 'actual'], color=['#1f77b4', '#ff7f0e'])\n",
        "\n",
        "def plot_2(hist, counts, hist_1, counts_1, txt1, txt2):\n",
        "    fig, axs = plt.subplots(1, 2, figsize=(12, 6))\n",
        "    plot_histogram([hist, counts], color=['#1f77b4', '#ff7f0e'], ax=axs[0])\n",
        "    axs[0].set_title(txt1)\n",
        "    plot_histogram([hist_1, counts_1], legend=['simulation', 'actual'], color=['#1f77b4', '#ff7f0e'], ax=axs[1])\n",
        "    axs[1].set_title(txt2)\n",
        "    plt.tight_layout()\n",
        "    return plt.show()\n",
        "\n",
        "def run(qc):\n",
        "    transpiled_qc = transpile(qc, simulator)\n",
        "    job = simulator.run(transpiled_qc, shots=100000)\n",
        "    hist = job.result().get_counts()\n",
        "\n",
        "    transpiled_qc = transpile(qc, backend=backend)\n",
        "    job = sampler.run([transpiled_qc], shots=100000)\n",
        "    counts = job.result()[0].data.meas.get_counts()\n",
        "    counts_1 = {k: v for k, v in counts.items() if v >= 1000}\n",
        "\n",
        "    return hist, counts_1"
      ]
    },
    {
      "cell_type": "code",
      "execution_count": null,
      "metadata": {
        "colab": {
          "base_uri": "https://localhost:8080/",
          "height": 711
        },
        "id": "A2xv6c2iEMgi",
        "outputId": "4b95a6dc-5209-4d9e-ed2d-d9c5ffd1a92a"
      },
      "outputs": [],
      "source": [
        "# Test on 1 qubits circuit with no gates\n",
        "qc = QuantumCircuit(1)\n",
        "qc.measure_all()\n",
        "\n",
        "hist, counts = run(qc)\n",
        "plot_1(hist, counts)"
      ]
    },
    {
      "cell_type": "code",
      "execution_count": null,
      "metadata": {},
      "outputs": [],
      "source": [
        "# Test on 10 qubits circuit with no gates\n",
        "qc = QuantumCircuit(10)\n",
        "qc.measure_all()\n",
        "\n",
        "hist, counts = run(qc)\n",
        "\n",
        "plot_1(hist, counts)"
      ]
    },
    {
      "cell_type": "code",
      "execution_count": null,
      "metadata": {},
      "outputs": [],
      "source": [
        "# Test on 20 qubits circuit with no gates\n",
        "qc = QuantumCircuit(20)\n",
        "qc.measure_all()\n",
        "\n",
        "hist, counts = run(qc)\n",
        "\n",
        "plot_1(hist, counts)"
      ]
    },
    {
      "cell_type": "code",
      "execution_count": null,
      "metadata": {},
      "outputs": [],
      "source": [
        "# Test on 1 and 10 qubits circuit with 1 hadamard gate\n",
        "\n",
        "qc = QuantumCircuit(1)\n",
        "qc.h(0)\n",
        "qc.measure_all()\n",
        "hist, counts = run(qc)\n",
        "\n",
        "qc = QuantumCircuit(10)\n",
        "qc.h(0)\n",
        "qc.measure_all()\n",
        "hist_1, counts_1 = run(qc)\n",
        "\n",
        "plot_2(hist, counts, hist_1, counts_1, '1 qubit', '10 qubits')"
      ]
    },
    {
      "cell_type": "code",
      "execution_count": null,
      "metadata": {},
      "outputs": [],
      "source": [
        "# Test on 5 qubits circuit with different number of hadamard gates\n",
        "\n",
        "qc = QuantumCircuit(5)\n",
        "qc.h(0)\n",
        "qc.measure_all()\n",
        "hist, counts = run(qc)\n",
        "\n",
        "qc = QuantumCircuit(5)\n",
        "qc.h(range(5))\n",
        "qc.measure_all()\n",
        "hist_1, counts_1 = run(qc)\n",
        "\n",
        "plot_2(hist, counts, hist_1, counts_1, '1 hadamard gate', '5 hadamard gates')"
      ]
    },
    {
      "cell_type": "code",
      "execution_count": null,
      "metadata": {},
      "outputs": [],
      "source": [
        "# Test on 1 and 10 qubits circuit with identity gate\n",
        "\n",
        "qc = QuantumCircuit(1)\n",
        "qc.h(0)\n",
        "qc.h(0)\n",
        "qc.measure_all()\n",
        "hist, counts = run(qc)\n",
        "\n",
        "qc_10 = QuantumCircuit(10)\n",
        "qc_10.h(range(10))\n",
        "qc_10.h(range(10))\n",
        "qc_10.measure_all()\n",
        "hist_1, counts_1 = run(qc)\n",
        "\n",
        "plot_2(hist, counts, hist_1, counts_1, '1 qubit', '10 qubits')"
      ]
    },
    {
      "cell_type": "code",
      "execution_count": null,
      "metadata": {},
      "outputs": [],
      "source": [
        "# Test on 1 and 10 qubits circuit with X gate\n",
        "\n",
        "qc = QuantumCircuit(1)\n",
        "qc.x(0)\n",
        "qc.measure_all()\n",
        "hist, counts = run(qc)\n",
        "\n",
        "qc = QuantumCircuit(10)\n",
        "qc.x(range(10))\n",
        "qc.measure_all()\n",
        "hist_1, counts_1 = run(qc)\n",
        "\n",
        "plot_2(hist, counts, hist_1, counts_1, '1 qubit', '10 qubits')"
      ]
    },
    {
      "cell_type": "code",
      "execution_count": null,
      "metadata": {},
      "outputs": [],
      "source": [
        "# Test on 1 and 10 qubits circuit with Y gate\n",
        "\n",
        "qc = QuantumCircuit(1)\n",
        "qc.y(0)\n",
        "qc.measure_all()\n",
        "hist, counts = run(qc)\n",
        "\n",
        "qc = QuantumCircuit(10)\n",
        "qc.y(range(10))\n",
        "qc.measure_all()\n",
        "hist_1, counts_1 = run(qc)\n",
        "\n",
        "plot_2(hist, counts, hist_1, counts_1, '1 qubit', '10 qubits')"
      ]
    },
    {
      "cell_type": "code",
      "execution_count": null,
      "metadata": {},
      "outputs": [],
      "source": [
        "# Test on 1 and 10 qubits circuit with Z gate\n",
        "\n",
        "qc = QuantumCircuit(1)\n",
        "qc.z(0)\n",
        "qc.measure_all()\n",
        "hist, counts = run(qc)\n",
        "\n",
        "qc = QuantumCircuit(10)\n",
        "qc.z(range(10))\n",
        "qc.measure_all()\n",
        "hist_1, counts_1 = run(qc)\n",
        "plot_2(hist, counts, hist_1, counts_1, '1 qubit', '10 qubits')"
      ]
    },
    {
      "cell_type": "code",
      "execution_count": null,
      "metadata": {},
      "outputs": [],
      "source": [
        "# Test on 1 and 10 qubits circuit with S gate\n",
        "\n",
        "qc = QuantumCircuit(1)\n",
        "qc.s(0)\n",
        "qc.measure_all()\n",
        "hist, counts = run(qc)\n",
        "\n",
        "qc = QuantumCircuit(10)\n",
        "qc.s(range(10))\n",
        "qc.measure_all()\n",
        "hist_1, counts_1 = run(qc)\n",
        "\n",
        "plot_2(hist, counts, hist_1, counts_1, '1 qubit', '10 qubits')"
      ]
    },
    {
      "cell_type": "code",
      "execution_count": null,
      "metadata": {},
      "outputs": [],
      "source": [
        "# Test on 2 and 10 qubits circuit with CNOT gate\n",
        "\n",
        "qc = QuantumCircuit(2)\n",
        "qc.h(0)\n",
        "qc.cx(0,1)\n",
        "qc.measure_all()\n",
        "hist, counts = run(qc)\n",
        "\n",
        "qc = QuantumCircuit(10)\n",
        "qc.h(0)\n",
        "qc.h(1)\n",
        "for i in range(9):\n",
        "    qc.cx(i,i+1)\n",
        "qc.measure_all()\n",
        "hist_1, counts_1 = run(qc)\n",
        "\n",
        "plot_2(hist, counts, hist_1, counts_1, '2 qubits', '10 qubits')"
      ]
    },
    {
      "cell_type": "code",
      "execution_count": null,
      "metadata": {},
      "outputs": [],
      "source": [
        "# Test on 2 and 10 qubits circuit with CZ gate\n",
        "\n",
        "qc = QuantumCircuit(2)\n",
        "qc.h(0)\n",
        "qc.cz(0,1)\n",
        "qc.measure_all()\n",
        "hist, counts = run(qc)\n",
        "\n",
        "qc = QuantumCircuit(10)\n",
        "qc.h(0)\n",
        "qc.h(1)\n",
        "for i in range(9):\n",
        "    qc.cz(i,i+1)\n",
        "qc.measure_all()\n",
        "hist_1, counts_1 = run(qc)\n",
        "\n",
        "plot_2(hist, counts, hist_1, counts_1, '2 qubits', '10 qubits')"
      ]
    },
    {
      "cell_type": "code",
      "execution_count": null,
      "metadata": {},
      "outputs": [],
      "source": [
        "# Test on 2 and 10 qubits circuit with SWAP gate\n",
        "\n",
        "qc = QuantumCircuit(2)\n",
        "qc.h(0)\n",
        "qc.swap(0,1)\n",
        "qc.measure_all()\n",
        "hist, counts = run(qc)\n",
        "\n",
        "qc = QuantumCircuit(10)\n",
        "qc.h(0)\n",
        "qc.h(1)\n",
        "for i in range(9):\n",
        "    qc.swap(i,i+1)\n",
        "qc.measure_all()\n",
        "hist_1, counts_1 = run(qc)\n",
        "\n",
        "plot_2(hist, counts, hist_1, counts_1, '2 qubits', '10 qubits')"
      ]
    },
    {
      "cell_type": "code",
      "execution_count": null,
      "metadata": {},
      "outputs": [],
      "source": [
        "# Test on 3 and 10 qubits circuit with CCNOT gate\n",
        "\n",
        "qc = QuantumCircuit(3)\n",
        "qc.h(0)\n",
        "qc.h(1)\n",
        "qc.ccx(0,1,2)\n",
        "qc.measure_all()\n",
        "hist, counts = run(qc)\n",
        "\n",
        "qc = QuantumCircuit(10)\n",
        "qc.h(0)\n",
        "qc.h(1)\n",
        "qc.h(2)\n",
        "for i in range(8):\n",
        "    qc.ccx(i,i+1,i+2)\n",
        "qc.measure_all()\n",
        "hist_1, counts_1 = run(qc)\n",
        "\n",
        "plot_2(hist, counts, hist_1, counts_1, '2 qubits', '10 qubits')"
      ]
    },
    {
      "cell_type": "code",
      "execution_count": null,
      "metadata": {},
      "outputs": [],
      "source": [
        "# Test on 5 qubits circuit with different gates\n",
        "qc = QuantumCircuit(5)\n",
        "qc.h(0)\n",
        "qc.cx(0, 1)\n",
        "qc.x(2)\n",
        "qc.ry(3.14159/4, 3)\n",
        "qc.cz(1, 4)\n",
        "qc.h(2)\n",
        "qc.cx(2, 3)\n",
        "qc.z(4)\n",
        "qc.measure_all()\n",
        "\n",
        "hist, counts = run(qc)\n",
        "\n",
        "qc = QuantumCircuit(5)\n",
        "qc.h(0)\n",
        "qc.cx(0, 1)\n",
        "qc.x(2)\n",
        "qc.ry(3.14159/4, 3)\n",
        "qc.cz(1, 4)\n",
        "qc.h(2)\n",
        "qc.cx(2, 3)\n",
        "qc.z(4)\n",
        "qc.ccx(0, 1, 2)\n",
        "qc.ccx(1, 2, 3)\n",
        "qc.ccx(0, 1, 3)\n",
        "qc.ccx(1, 2, 4)\n",
        "qc.measure_all()\n",
        "\n",
        "hist_1, counts_1 = run(qc)\n",
        "plot_2(hist, counts, hist_1, counts_1, 'No CCNOT gate', '4 CCNOT gates')"
      ]
    },
    {
      "cell_type": "code",
      "execution_count": null,
      "metadata": {},
      "outputs": [],
      "source": [
        "# Test on 5 qubits circuit with random gates\n",
        "qc = QuantumCircuit(5)\n",
        "\n",
        "qc.h(range(5))\n",
        "for i in range(4):\n",
        "    qc.cx(i, i+1)\n",
        "qc.x(0)\n",
        "qc.y(1)\n",
        "qc.z(2)\n",
        "qc.ccx(0, 1, 2)\n",
        "qc.swap(2, 3)\n",
        "qc.swap(3, 4)\n",
        "qc.measure_all()\n",
        "\n",
        "hist, counts = run(qc)\n",
        "plot_1(hist, counts)"
      ]
    },
    {
      "cell_type": "code",
      "execution_count": null,
      "metadata": {},
      "outputs": [],
      "source": [
        "# Test on Quantum Fourier Transform\n",
        "from qiskit.circuit.library import QFT\n",
        "\n",
        "qc = QuantumCircuit(2)\n",
        "qc.h(0)\n",
        "qc.x(1)\n",
        "qc.append(QFT(2), [0, 1])\n",
        "qc.measure_all()\n",
        "\n",
        "hist, counts = run(qc)\n",
        "plot_1(hist, counts)"
      ]
    },
    {
      "cell_type": "code",
      "execution_count": null,
      "metadata": {},
      "outputs": [],
      "source": [
        "# Test on Grover's algorithm\n",
        "from qiskit.circuit.library import Diagonal, GroverOperator\n",
        "\n",
        "oracle = Diagonal([-1]*2+[1]*28+[-1]*2)\n",
        "grover_op = GroverOperator(oracle).repeat(1).to_gate()\n",
        "qc = QuantumCircuit(5)\n",
        "qc.h(range(5))\n",
        "qc.append(grover_op, range(5))\n",
        "qc.measure_all()\n",
        "\n",
        "hist, counts = run(qc)\n",
        "plot_1(hist, counts)"
      ]
    }
  ],
  "metadata": {
    "colab": {
      "provenance": []
    },
    "kernelspec": {
      "display_name": "Python 3",
      "name": "python3"
    },
    "language_info": {
      "codemirror_mode": {
        "name": "ipython",
        "version": 3
      },
      "file_extension": ".py",
      "mimetype": "text/x-python",
      "name": "python",
      "nbconvert_exporter": "python",
      "pygments_lexer": "ipython3",
      "version": "3.10.9"
    }
  },
  "nbformat": 4,
  "nbformat_minor": 0
}
